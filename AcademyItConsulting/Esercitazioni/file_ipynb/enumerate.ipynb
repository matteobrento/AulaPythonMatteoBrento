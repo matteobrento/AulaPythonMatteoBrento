{
 "cells": [
  {
   "cell_type": "markdown",
   "metadata": {},
   "source": [
    "Utilizzo di \"enumerate(lista)\"\n",
    "\n",
    "Posso utilizzarlo all'interno di un ciclo for per numerare la mia lista in funzione dei parametri passati nel \"for\".\n",
    "Ritorna una tupla per ogni elemento della lista contenente index + elemento.\n",
    "Ad esempio, qui chiedo un index associato al valore e mi printerà a video ogni indice della lista col suo elemento corrispondente.\n"
   ]
  },
  {
   "cell_type": "code",
   "execution_count": null,
   "metadata": {},
   "outputs": [],
   "source": [
    "s = \"ciao mi chiamo Matteo\"\n",
    "s_split = s.split(\" \")\n",
    "for index, value in enumerate(s_split):\n",
    "    print(index, value)"
   ]
  },
  {
   "cell_type": "markdown",
   "metadata": {},
   "source": [
    "In questo caso crea una lista nuova e gli associa direttamente l'enumerazione sulla stringa splittata in lista.\n",
    "L'Output sarà una lista con all'interno una tupla per ogni elemento di s_split che conterrà index + elemento.\n",
    "Bisogna effettuare il cast in \"list\" perchè altrimenti ritornerà il codice object corrispondente."
   ]
  },
  {
   "cell_type": "code",
   "execution_count": null,
   "metadata": {},
   "outputs": [],
   "source": [
    "s = \"ciao mi chiamo Matteo\"\n",
    "s_split = s.split(\" \")\n",
    "enumerated_list = list(enumerate(s_split))\n",
    "print(enumerated_list)"
   ]
  }
 ],
 "metadata": {
  "kernelspec": {
   "display_name": "Python 3",
   "language": "python",
   "name": "python3"
  },
  "language_info": {
   "codemirror_mode": {
    "name": "ipython",
    "version": 3
   },
   "file_extension": ".py",
   "mimetype": "text/x-python",
   "name": "python",
   "nbconvert_exporter": "python",
   "pygments_lexer": "ipython3",
   "version": "3.12.4"
  }
 },
 "nbformat": 4,
 "nbformat_minor": 2
}
